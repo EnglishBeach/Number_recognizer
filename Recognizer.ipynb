{
 "cells": [
  {
   "cell_type": "code",
   "execution_count": null,
   "metadata": {},
   "outputs": [],
   "source": [
    "# %matplotlib qt\n",
    "# %matplotlib ipympl"
   ]
  },
  {
   "cell_type": "code",
   "execution_count": 1,
   "metadata": {},
   "outputs": [
    {
     "name": "stdout",
     "output_type": "stream",
     "text": [
      "Importing...\n"
     ]
    }
   ],
   "source": [
    "## Imports\n",
    "print(\"Importing...\")\n",
    "import os\n",
    "import re\n",
    "import pandas as pd\n",
    "from tqdm import tqdm\n",
    "\n",
    "import cv2\n",
    "import easyocr\n",
    "\n",
    "from recognizer_modules import PreProcessor, PostProcessor, save_data\n",
    "\n",
    "EXP_PATH, VIDEO_NAME, DATA_NAME = '', '', ''"
   ]
  },
  {
   "cell_type": "code",
   "execution_count": null,
   "metadata": {},
   "outputs": [],
   "source": [
    "## Inputs\n",
    "EXP_PATH = r'Experiments\\MultiplyTemperature\\Exp1(2.5)'\n",
    "VIDEO_NAME = r\"\\Exp1_up.avi\"\n",
    "\n",
    "variable_patterns = {\n",
    "    'Viscosity': r'-?\\d{1,3}[\\.,]\\d',\n",
    "    'Temperature': r'-?\\d{1,3}[\\.,]\\d',\n",
    "}"
   ]
  },
  {
   "cell_type": "code",
   "execution_count": null,
   "metadata": {},
   "outputs": [],
   "source": [
    "class SafetySaver:\n",
    "    def __init__(self,video_path,data_path=None):\n",
    "        self"
   ]
  },
  {
   "cell_type": "code",
   "execution_count": null,
   "metadata": {},
   "outputs": [],
   "source": [
    "if EXP_PATH + VIDEO_NAME == '':\n",
    "    input_path = ''\n",
    "    while (input_path == '') and (not os.path.isfile(EXP_PATH + VIDEO_NAME)):\n",
    "        input_path = input(f\"Input video path: \")\n",
    "    path_list = (input_path).split('\\\\')\n",
    "    EXP_PATH = '\\\\'.join(path_list[:-1])\n",
    "    VIDEO_NAME = '\\\\' + path_list[-1]\n",
    "DATA_NAME = VIDEO_NAME.split('.')[0] + '.csv'\n",
    "\n",
    "print(\n",
    "    'Recognize path:',\n",
    "    EXP_PATH + VIDEO_NAME,\n",
    "    f'Data save path:',\n",
    "    EXP_PATH + DATA_NAME,\n",
    "    sep='\\n',\n",
    ")"
   ]
  },
  {
   "cell_type": "code",
   "execution_count": null,
   "metadata": {},
   "outputs": [],
   "source": [
    "## PreProcessor settings\n",
    "class ImageProcessor(PreProcessor):\n",
    "    Blur = range(1, 50)\n",
    "\n",
    "    def process(self, image, gray_image=True):\n",
    "        image = cv2.blur(image, (int(self['Blur']), int(self['Blur'])))\n",
    "        if gray_image:\n",
    "            try:\n",
    "                image = cv2.cvtColor(image, cv2.COLOR_BGR2GRAY)\n",
    "            except:\n",
    "                pass\n",
    "            image = cv2.bitwise_not(image)\n",
    "\n",
    "        return image\n",
    "\n",
    "\n",
    "CAP = cv2.VideoCapture(EXP_PATH + VIDEO_NAME)\n",
    "\n",
    "FPS = int(CAP.get(cv2.CAP_PROP_FPS))\n",
    "LENTH = int(CAP.get(cv2.CAP_PROP_FRAME_COUNT) / FPS)\n",
    "CAP.set(cv2.CAP_PROP_POS_FRAMES, 0)\n",
    "_, START_FRAME = CAP.read()\n",
    "\n",
    "processor = ImageProcessor([i for i in variable_patterns])\n",
    "print('Configurate image processing')\n",
    "processor.configure_process(CAP)\n",
    "print(\n",
    "    'Press:',\n",
    "    '   Enter - save selection and continue',\n",
    "    '   R     - reset video timer',\n",
    "    '   Ecs/C - cancel selection',\n",
    "    '   q/e   - time move',\n",
    "    sep='\\n',\n",
    ")\n",
    "processor.select_window(CAP)\n",
    "processor.check_process(CAP)"
   ]
  },
  {
   "cell_type": "code",
   "execution_count": null,
   "metadata": {},
   "outputs": [],
   "source": [
    "## PostProcessor settings\n",
    "class ValuePostProcessor(PostProcessor):\n",
    "    def pattern_check(self, value: list, pattern: str):\n",
    "        if value == []: return None\n",
    "        value = value[0]\n",
    "        value = ''\n",
    "        if re.match(pattern, value):\n",
    "            return value\n",
    "    @PostProcessor.check_type\n",
    "    def processor_sweep(self) -> list[str]:\n",
    "        for i in range(1, 50):\n",
    "            self.inner_processor['Blur'] = i\n",
    "            processed_img = self.inner_processor(self._image)\n",
    "            raw_value = [\n",
    "                value for _, value, _ in self.reader.readtext(processed_img)\n",
    "            ]\n",
    "            result = self.pattern_check(raw_value, self.current_pattern)\n",
    "            if result is not None: return raw_value\n",
    "        return []\n",
    "\n",
    "    @PostProcessor.check_type\n",
    "    def value_combine(self) -> list[str]:\n",
    "        parts = len(self._raw_value)\n",
    "        if parts == 1:\n",
    "            value = self._raw_value[0]\n",
    "            result = value[:3] + '.' + value[4:5]\n",
    "\n",
    "        elif parts == 2:\n",
    "            result = '.'.join(self._raw_value)\n",
    "\n",
    "        elif parts == 3:\n",
    "            result = f'{self._raw_value[0]}.{self._raw_value[2]}'\n",
    "\n",
    "        return [result]\n",
    "\n",
    "\n",
    "print('Starting recognizer...')\n",
    "reader = easyocr.Reader(['en'])\n",
    "checker = ValuePostProcessor(reader=reader, processor=processor)\n",
    "# checker.active_checks_order = {check:checker.all_checks[check] for check in ['inner_processor_check','value_combine']}\n",
    "print([i for i in checker.active_checks_order])"
   ]
  },
  {
   "cell_type": "code",
   "execution_count": null,
   "metadata": {},
   "outputs": [],
   "source": [
    "## Recognize\n",
    "input_fps = input('Input number of frames per second: ')\n",
    "try:\n",
    "    read_fps = float(input_fps)\n",
    "except:\n",
    "    read_fps = 1\n",
    "\n",
    "print('Recognizing:')\n",
    "errors = 0\n",
    "frame_line = tqdm(iterable=range(0, FPS * LENTH, int(FPS / read_fps)))\n",
    "frame_line.set_description(f'Errors: {errors: >4}')\n",
    "data = []\n",
    "\n",
    "for i_frame in frame_line:\n",
    "    CAP.set(cv2.CAP_PROP_POS_FRAMES, i_frame)\n",
    "    _, frame = CAP.read()\n",
    "    i_text = {'time': round(i_frame / FPS, 1)}\n",
    "    processed_frame = processor(frame)\n",
    "    stricted_images = processor.strict(processed_frame)\n",
    "\n",
    "    for var, pattern in variable_patterns.items():\n",
    "        var_image = stricted_images[var]\n",
    "        raw_value = [value for _, value, _ in reader.readtext(var_image)]\n",
    "\n",
    "        mark, result = checker.check(image=var_image,\n",
    "                               raw_value=raw_value,\n",
    "                               pattern=pattern)\n",
    "        # if mark == 'error':\n",
    "        #     # processor.configure_process(CAP,start_frame=i_frame)\n",
    "        #     processor.select_window(CAP,start_frame=i_frame)\n",
    "        #     # processor.check_process(CAP,start_frame=i_frame)\n",
    "        #     checker.reload_processor(processor)\n",
    "        #     mark, result = checker.check(image=var_image,\n",
    "        #                 raw_value=raw_value,\n",
    "        #                 rules=rules)\n",
    "        #     mark= f'*{mark}'\n",
    "\n",
    "        i_text[var] = result\n",
    "        i_text[var + '_verbose'] = mark\n",
    "\n",
    "    if None in i_text.values():\n",
    "        errors += 1\n",
    "        frame_line.set_description(f'Errors: {errors: >4}')\n",
    "    data.append(i_text)\n"
   ]
  },
  {
   "cell_type": "code",
   "execution_count": null,
   "metadata": {},
   "outputs": [],
   "source": [
    "## Saving\n",
    "df = pd.DataFrame(data)\n",
    "save_data(df, EXP_PATH + DATA_NAME)\n"
   ]
  }
 ],
 "metadata": {
  "kernelspec": {
   "display_name": "Python 3.10.0 ('zRecognizer_env': venv)",
   "language": "python",
   "name": "python3"
  },
  "language_info": {
   "codemirror_mode": {
    "name": "ipython",
    "version": 3
   },
   "file_extension": ".py",
   "mimetype": "text/x-python",
   "name": "python",
   "nbconvert_exporter": "python",
   "pygments_lexer": "ipython3",
   "version": "3.10.0"
  },
  "orig_nbformat": 4,
  "vscode": {
   "interpreter": {
    "hash": "1dc091e34f2bb921257c80635ec4038a4bce8f920e17aee539eaef1bef13a90a"
   }
  }
 },
 "nbformat": 4,
 "nbformat_minor": 2
}
